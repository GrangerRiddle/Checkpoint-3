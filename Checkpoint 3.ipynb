{
 "cells": [
  {
   "cell_type": "code",
   "execution_count": null,
   "id": "a901103c",
   "metadata": {},
   "outputs": [],
   "source": [
    "# Question 1\n",
    "l = [2, 3, 6]\n",
    "result = 1\n",
    "for i in l:\n",
    "    result = result*i\n",
    "print(result)"
   ]
  },
  {
   "cell_type": "code",
   "execution_count": 43,
   "id": "0091d6ba",
   "metadata": {},
   "outputs": [
    {
     "name": "stdout",
     "output_type": "stream",
     "text": [
      "[(2, 1), (1, 2), (2, 3), (4, 4), (2, 5)]\n"
     ]
    }
   ],
   "source": [
    "# Question 2\n",
    "my_list = [(2, 5), (1, 2), (4, 4), (2, 3), (2, 1)]\n",
    "my_list.sort(key = lambda x: x[-1])\n",
    "print(my_list)"
   ]
  },
  {
   "cell_type": "code",
   "execution_count": 46,
   "id": "ee55454b",
   "metadata": {},
   "outputs": [
    {
     "name": "stdout",
     "output_type": "stream",
     "text": [
      "[(2, 1), (1, 2), (2, 3), (4, 4), (2, 5)]\n"
     ]
    }
   ],
   "source": [
    "# Question 2 Seconde manière\n",
    "l = [(2, 5), (1, 2), (4, 4), (2, 3), (2, 1)]\n",
    "for i in range(0,len(l)):\n",
    "    for j in range(0,len(l)-i-1):\n",
    "        if l[j][-1]>l[j+1][-1]:\n",
    "            temp=l[j]\n",
    "            l[j]=l[j+1]\n",
    "            l[j+1]=temp\n",
    "print(l)"
   ]
  },
  {
   "cell_type": "code",
   "execution_count": 47,
   "id": "de955d3d",
   "metadata": {},
   "outputs": [
    {
     "name": "stdout",
     "output_type": "stream",
     "text": [
      "{'a': 400, 'b': 400, 'c': 300, 'd': 400}\n"
     ]
    }
   ],
   "source": [
    "# Question 3\n",
    "d1 = {'a': 100, 'b': 200, 'c':300}\n",
    "d2 = {'a': 300, 'b': 200, 'd':400}\n",
    "\n",
    "d = {}\n",
    "for k in d1.keys():\n",
    "    d[k] = d1[k] + d2.get(k,0)\n",
    "\n",
    "for k in d2.keys():\n",
    "    d[k] = d2[k] + d1.get(k,0)\n",
    "\n",
    "print(d)"
   ]
  },
  {
   "cell_type": "code",
   "execution_count": 1,
   "id": "786a6bd1",
   "metadata": {},
   "outputs": [
    {
     "name": "stdout",
     "output_type": "stream",
     "text": [
      "Enter an integral number: 8\n",
      "{1: 1, 2: 4, 3: 9, 4: 16, 5: 25, 6: 36, 7: 49, 8: 64}\n"
     ]
    }
   ],
   "source": [
    "# Question 4\n",
    "n = int(input(\"Enter an integral number: \"))\n",
    "d = {}\n",
    "for i in range(1, n+1):\n",
    "    d[i] = i*i\n",
    "print(d)"
   ]
  },
  {
   "cell_type": "code",
   "execution_count": 7,
   "id": "68cc7b21",
   "metadata": {},
   "outputs": [
    {
     "name": "stdout",
     "output_type": "stream",
     "text": [
      "[('item2', '15.10'), ('item1', '13.20'), ('item3', '3.5')]\n"
     ]
    }
   ],
   "source": [
    "# Question 5\n",
    "list1 = [('item1', '13.20'), ('item2', '15.10'), ('item3', '3.5')]\n",
    "list1.sort(key = lambda x: float(x[1]), reverse = True)\n",
    "print(list1)"
   ]
  }
 ],
 "metadata": {
  "kernelspec": {
   "display_name": "Python 3",
   "language": "python",
   "name": "python3"
  },
  "language_info": {
   "codemirror_mode": {
    "name": "ipython",
    "version": 3
   },
   "file_extension": ".py",
   "mimetype": "text/x-python",
   "name": "python",
   "nbconvert_exporter": "python",
   "pygments_lexer": "ipython3",
   "version": "3.8.8"
  }
 },
 "nbformat": 4,
 "nbformat_minor": 5
}
